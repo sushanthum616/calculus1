{
  "nbformat": 4,
  "nbformat_minor": 0,
  "metadata": {
    "colab": {
      "provenance": []
    },
    "kernelspec": {
      "name": "python3",
      "display_name": "Python 3"
    },
    "language_info": {
      "name": "python"
    }
  },
  "cells": [
    {
      "cell_type": "code",
      "execution_count": 1,
      "metadata": {
        "colab": {
          "base_uri": "https://localhost:8080/"
        },
        "id": "gv6MF3N6oJ9B",
        "outputId": "5f9be694-1675-4559-d064-a37ea49b31a2"
      },
      "outputs": [
        {
          "output_type": "stream",
          "name": "stdout",
          "text": [
            "Monte Carlo estimated area: 2.7795089158990773\n"
          ]
        }
      ],
      "source": [
        "#question no.2\n",
        "import numpy as np\n",
        "import matplotlib.pyplot as plt\n",
        "\n",
        "# Define the functions\n",
        "def f(x):\n",
        "    return np.sin(x)\n",
        "\n",
        "def g(x):\n",
        "    return -3 / (7 * np.pi) * x\n",
        "\n",
        "# Interval and bounding box\n",
        "a = 0\n",
        "b = 7 * np.pi / 6\n",
        "N = 100000\n",
        "\n",
        "# Generate random points\n",
        "x_rand = np.random.uniform(a, b, N)\n",
        "y_rand = np.random.uniform(-0.6, 1.1, N)  # from below the line to above sin(x)\n",
        "\n",
        "# Points under curve minus line\n",
        "under_curve = y_rand < f(x_rand)\n",
        "above_line = y_rand > g(x_rand)\n",
        "between = under_curve & above_line\n",
        "\n",
        "# Calculate area of bounding box\n",
        "box_area = (b - a) * (1.1 + 0.6)\n",
        "\n",
        "# Estimate area\n",
        "estimated_area = np.sum(between) / N * box_area\n",
        "print(\"Monte Carlo estimated area:\", estimated_area)\n"
      ]
    },
    {
      "cell_type": "code",
      "source": [
        "#question no. 3\n",
        "import numpy as np\n",
        "from scipy.integrate import quad\n",
        "\n",
        "# Define the integrand\n",
        "def integrand(x):\n",
        "    return (1 + np.log(x)) * np.sqrt(1 + (x * np.log(x))**2)\n",
        "\n",
        "# Perform the definite integration\n",
        "result, error = quad(integrand, 0.2, 1)\n",
        "\n",
        "print(f\"Definite integral value: {result:.6f}\")"
      ],
      "metadata": {
        "colab": {
          "base_uri": "https://localhost:8080/"
        },
        "id": "mbcFuEZUqo63",
        "outputId": "27d9b876-69ea-4a3d-c35f-392c69874c2c"
      },
      "execution_count": 3,
      "outputs": [
        {
          "output_type": "stream",
          "name": "stdout",
          "text": [
            "Definite integral value: 0.327363\n"
          ]
        }
      ]
    }
  ]
}