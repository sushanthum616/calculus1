{
  "nbformat": 4,
  "nbformat_minor": 0,
  "metadata": {
    "colab": {
      "provenance": []
    },
    "kernelspec": {
      "name": "python3",
      "display_name": "Python 3"
    },
    "language_info": {
      "name": "python"
    }
  },
  "cells": [
    {
      "cell_type": "code",
      "execution_count": null,
      "metadata": {
        "colab": {
          "base_uri": "https://localhost:8080/"
        },
        "id": "sJuhhP7gzEhI",
        "outputId": "12670f43-790c-4b39-8ab3-757866120e36"
      },
      "outputs": [
        {
          "output_type": "stream",
          "name": "stdout",
          "text": [
            "Optimal group size (x): 5.02\n",
            "Minimum average number of tests: 42.62\n"
          ]
        }
      ],
      "source": [
        "#Question-1:\n",
        "\n",
        "import numpy as np\n",
        "from scipy.optimize import minimize_scalar\n",
        "\n",
        "# Defining constants\n",
        "N = 100\n",
        "q = 0.95\n",
        "\n",
        "# Defining the function to minimize\n",
        "def average_tests(x):\n",
        "    return N * (1 - q**x + 1/x)\n",
        "\n",
        "# Using a bounded minimization method to find the optimal x\n",
        "result = minimize_scalar(average_tests, bounds=(1, 150), method='bounded')\n",
        "\n",
        "# Printing the optimal group size and the corresponding average number of tests\n",
        "optimal_x = result.x\n",
        "optimal_tests = result.fun\n",
        "\n",
        "print(f\"Optimal group size (x): {optimal_x:.2f}\")\n",
        "print(f\"Minimum average number of tests: {optimal_tests:.2f}\")"
      ]
    },
    {
      "cell_type": "code",
      "source": [
        "#Question-2\n",
        "import numpy as np\n",
        "import sympy as sp\n",
        "\n",
        "# Part (a): Verifying that 0 is a root of multiplicity 2 of the given function\n",
        "x = sp.symbols('x')\n",
        "f_sym = sp.exp(2 * sp.sin(x)) - 2 * x - 1\n",
        "f_prime_sym = sp.diff(f_sym, x)\n",
        "f_double_prime_sym = sp.diff(f_prime_sym, x)\n",
        "\n",
        "# Evaluating f(0), f'(0), f''(0)\n",
        "root_value = f_sym.subs(x, 0)\n",
        "first_derivative = f_prime_sym.subs(x, 0)\n",
        "second_derivative = f_double_prime_sym.subs(x, 0)\n",
        "\n",
        "print(\"Part (a): Verifying root at x = 0\")\n",
        "print(f\"f(0) = {root_value}\")\n",
        "print(f\"f'(0) = {first_derivative}\")\n",
        "print(f\"f''(0) = {second_derivative}\")\n",
        "print(\"Conclusion: 0 is a root of multiplicity 2 since f(0) = 0, f'(0) = 0, and f''(0) ≠ 0.\")\n",
        "print(\"\\n\")\n",
        "\n",
        "# Part (b): Newton's and Modified Newton's methods for f(x) = e^(2sin(x)) - 2x - 1\n",
        "def f_b(x):\n",
        "    return np.exp(2 * np.sin(x)) - 2 * x - 1\n",
        "\n",
        "def df_b(x):\n",
        "    return 2 * np.exp(2 * np.sin(x)) * np.cos(x) - 2\n",
        "\n",
        "# Newton's Method\n",
        "def newtons_method(func, dfunc, x0, iterations, epsilon=1e-10):\n",
        "    for i in range(iterations):\n",
        "        derivative = dfunc(x0)\n",
        "        if abs(derivative) < epsilon:  # Avoid division by zero\n",
        "            print(\"Derivative near zero. Stopping iterations.\")\n",
        "            break\n",
        "        x0 = x0 - func(x0) / derivative\n",
        "    return x0\n",
        "\n",
        "# Modified Newton's Method\n",
        "def modified_newtons_method(func, dfunc, x0, iterations, epsilon=1e-10):\n",
        "    for i in range(iterations):\n",
        "        derivative = dfunc(x0)\n",
        "        if abs(derivative) < epsilon:  # Avoid division by zero\n",
        "            print(\"Derivative near zero. Stopping iterations.\")\n",
        "            break\n",
        "        x0 = x0 - 2 * func(x0) / derivative\n",
        "    return x0\n",
        "\n",
        "# Initial guess and iterations for part (b)\n",
        "x0_b = 0.1\n",
        "iterations = 9\n",
        "\n",
        "x9_newton = newtons_method(f_b, df_b, x0_b, iterations)\n",
        "x9_modified_newton = modified_newtons_method(f_b, df_b, x0_b, iterations)\n",
        "\n",
        "print(\"Part (b): Finding x9 for both methods\")\n",
        "print(f\"x9 (Newton's Method): {x9_newton}\")\n",
        "print(f\"x9 (Modified Newton's Method): {x9_modified_newton}\")\n",
        "print(\"\\n\")\n",
        "\n",
        "# Part (c): Modified Newton's method for f(x) = (8x^2) / (3x^2 + 1)\n",
        "def f_c(x):\n",
        "    return (8 * x**2) / (3 * x**2 + 1)\n",
        "\n",
        "def df_c(x):\n",
        "    numerator = 16 * x * (3 * x**2 + 1) - 48 * x**3\n",
        "    denominator = (3 * x**2 + 1)**2\n",
        "    return numerator / denominator\n",
        "\n",
        "x0_c = 0.15\n",
        "x9_part_c = modified_newtons_method(f_c, df_c, x0_c, iterations)\n",
        "\n",
        "print(\"Part (c): Finding x9 using Modified Newton's Method for Part (c)\")\n",
        "print(f\"x9 (Modified Newton's Method, Part c): {x9_part_c}\")\n"
      ],
      "metadata": {
        "colab": {
          "base_uri": "https://localhost:8080/"
        },
        "id": "G4hI98uZ-Qeb",
        "outputId": "912b5c9e-e289-4ddb-8955-2539e78fc0ff"
      },
      "execution_count": null,
      "outputs": [
        {
          "output_type": "stream",
          "name": "stdout",
          "text": [
            "Part (a): Verifying root at x = 0\n",
            "f(0) = 0\n",
            "f'(0) = 0\n",
            "f''(0) = 4\n",
            "Conclusion: 0 is a root of multiplicity 2 since f(0) = 0, f'(0) = 0, and f''(0) ≠ 0.\n",
            "\n",
            "\n",
            "Derivative near zero. Stopping iterations.\n",
            "Part (b): Finding x9 for both methods\n",
            "x9 (Newton's Method): 0.00020483725493164077\n",
            "x9 (Modified Newton's Method): -1.5258027692339302e-11\n",
            "\n",
            "\n",
            "Derivative near zero. Stopping iterations.\n",
            "Part (c): Finding x9 using Modified Newton's Method for Part (c)\n",
            "x9 (Modified Newton's Method, Part c): -9.058170337937488e-17\n"
          ]
        }
      ]
    }
  ]
}